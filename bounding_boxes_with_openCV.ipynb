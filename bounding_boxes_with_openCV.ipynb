{
 "cells": [
  {
   "cell_type": "code",
   "execution_count": 1,
   "id": "df14f695-c181-470d-a906-53abb6b9515b",
   "metadata": {
    "scrolled": true
   },
   "outputs": [],
   "source": [
    "# identify structure of the image using openCV\n",
    "# identity columns in the image"
   ]
  },
  {
   "cell_type": "code",
   "execution_count": 2,
   "id": "cefb85a9-63eb-4a25-8188-09f1e046a3dd",
   "metadata": {},
   "outputs": [],
   "source": [
    "import cv2\n",
    "import pytesseract"
   ]
  },
  {
   "cell_type": "code",
   "execution_count": 3,
   "id": "6153bb53-5d25-4675-af44-b0f7e5545395",
   "metadata": {},
   "outputs": [],
   "source": [
    "# load the image into the memory\n",
    "image = cv2.imread(\"data/index_02.JPG\")\n",
    "base_image = image.copy()"
   ]
  },
  {
   "cell_type": "code",
   "execution_count": 4,
   "id": "a3bfd8c5-7f4b-4af3-98bb-a7811decb837",
   "metadata": {},
   "outputs": [],
   "source": [
    "gray = cv2.cvtColor(image , cv2.COLOR_BGR2GRAY)"
   ]
  },
  {
   "cell_type": "code",
   "execution_count": 5,
   "id": "e442d8a4-2794-4037-a2d5-f397b59b3dee",
   "metadata": {},
   "outputs": [
    {
     "data": {
      "text/plain": [
       "True"
      ]
     },
     "execution_count": 5,
     "metadata": {},
     "output_type": "execute_result"
    }
   ],
   "source": [
    "cv2.imwrite(\"temp/index_gray.png\" , gray)"
   ]
  },
  {
   "cell_type": "code",
   "execution_count": 6,
   "id": "5afd4579-882f-42e6-bff2-b6c610b921d7",
   "metadata": {},
   "outputs": [],
   "source": [
    "#cause we want to identity the structure\n",
    "blur = cv2.GaussianBlur(gray, (7,7),0)"
   ]
  },
  {
   "cell_type": "code",
   "execution_count": 7,
   "id": "f47a3215-c661-4354-b67f-697e85c0a58b",
   "metadata": {},
   "outputs": [
    {
     "data": {
      "text/plain": [
       "True"
      ]
     },
     "execution_count": 7,
     "metadata": {},
     "output_type": "execute_result"
    }
   ],
   "source": [
    "cv2.imwrite(\"temp/index_blur.png\" , blur)"
   ]
  },
  {
   "cell_type": "code",
   "execution_count": 8,
   "id": "005cb024-66dc-46bc-af6a-0f166977c970",
   "metadata": {},
   "outputs": [],
   "source": [
    "thresh = cv2.threshold(blur, 0, 255, cv2.THRESH_BINARY_INV + cv2.THRESH_OTSU)[1]"
   ]
  },
  {
   "cell_type": "code",
   "execution_count": 9,
   "id": "506ec4da-e37c-4095-9d30-239aa61fff7a",
   "metadata": {},
   "outputs": [
    {
     "data": {
      "text/plain": [
       "True"
      ]
     },
     "execution_count": 9,
     "metadata": {},
     "output_type": "execute_result"
    }
   ],
   "source": [
    "cv2.imwrite(\"temp/index_thresh.png\" , thresh)"
   ]
  },
  {
   "cell_type": "code",
   "execution_count": 10,
   "id": "fa366f9b-cca8-4819-b4c2-336a25584a14",
   "metadata": {},
   "outputs": [],
   "source": [
    "kernel  = cv2.getStructuringElement(cv2.MORPH_RECT, (3,13))"
   ]
  },
  {
   "cell_type": "code",
   "execution_count": 11,
   "id": "ed69c3c1-2cb7-4e7e-8d13-acfcba568db7",
   "metadata": {},
   "outputs": [
    {
     "data": {
      "text/plain": [
       "True"
      ]
     },
     "execution_count": 11,
     "metadata": {},
     "output_type": "execute_result"
    }
   ],
   "source": [
    "cv2.imwrite(\"temp/index_kernel.png\" , kernel)"
   ]
  },
  {
   "cell_type": "code",
   "execution_count": 12,
   "id": "5af02eba-c4c9-494a-8e05-0ae5f5da608b",
   "metadata": {},
   "outputs": [],
   "source": [
    "dilate = cv2.dilate(thresh,kernel,iterations = 1)"
   ]
  },
  {
   "cell_type": "code",
   "execution_count": 13,
   "id": "dc2678ae-e2a1-48d5-9362-fda1edc5e18e",
   "metadata": {},
   "outputs": [
    {
     "data": {
      "text/plain": [
       "True"
      ]
     },
     "execution_count": 13,
     "metadata": {},
     "output_type": "execute_result"
    }
   ],
   "source": [
    "cv2.imwrite(\"temp/index_dilate.png\" , dilate)"
   ]
  },
  {
   "cell_type": "code",
   "execution_count": 14,
   "id": "e9e9ab09-f7ee-4d0c-97e1-0e4c51da76e9",
   "metadata": {},
   "outputs": [],
   "source": [
    "cnts  = cv2.findContours (dilate , cv2.RETR_EXTERNAL , cv2.CHAIN_APPROX_SIMPLE)"
   ]
  },
  {
   "cell_type": "code",
   "execution_count": 15,
   "id": "53202a2f-6e38-4d3d-8944-dd6c5366a180",
   "metadata": {},
   "outputs": [],
   "source": [
    "cnts  = cnts[0] if len(cnts) == 2 else cnts[1]"
   ]
  },
  {
   "cell_type": "code",
   "execution_count": 16,
   "id": "4f2ec018-c8cd-4303-8bc4-f15d56547010",
   "metadata": {},
   "outputs": [],
   "source": [
    "# sort the contours from left to right\n",
    "cnts = sorted(cnts, key = lambda x : cv2.boundingRect(x)[0])"
   ]
  },
  {
   "cell_type": "code",
   "execution_count": 48,
   "id": "73e2baef-cc0b-43d0-a405-361177d6b658",
   "metadata": {},
   "outputs": [
    {
     "data": {
      "text/plain": [
       "True"
      ]
     },
     "execution_count": 48,
     "metadata": {},
     "output_type": "execute_result"
    }
   ],
   "source": [
    "# write bounding boxes around the columns in the original image with those dimentions and color\n",
    "results = []\n",
    "\n",
    "for c in cnts :\n",
    "    x,y,w,h = cv2.boundingRect(c)\n",
    "    if h > 200  and w > 20:# we ganno get the columns only by setting a conditional statment\n",
    "        roi = image[y:y+h , x: x+w]\n",
    "        # cv2.imwrite(\"temp/index_roi.png\" , roi)\n",
    "        # print(ocr_result)\n",
    "        # print(\"-----------------\")\n",
    "        #separate into lines \n",
    "        cv2.rectangle(image ,(x,y) , (x+w, y+h),(36,255,12),2) \n",
    "        ocr_result = pytesseract.image_to_string(roi)\n",
    "        ocr_result = ocr_result.split(\"\\n\")\n",
    "        for item in ocr_result : \n",
    "            results.append(item)\n",
    "              # item = item.strip()\n",
    "              # item = item.split(\" \" )[0]\n",
    "              # print(item)\n",
    "        \n",
    " \n",
    "\n",
    "cv2.imwrite(\"temp/index_bbox.png\" , image)"
   ]
  },
  {
   "cell_type": "code",
   "execution_count": 49,
   "id": "5ee18ca1-093c-4b23-966a-aea425bed3b0",
   "metadata": {},
   "outputs": [
    {
     "name": "stdout",
     "output_type": "stream",
     "text": [
      "[' ', '', 'A. v. E.', '', 'Aaron 38, 20. 123, 18. 168, 6. 203, 38.', 'Abacuc propheta 36,5. 319,29. 373, 23.', 'Abagarus rex Edessenorum 382, 13.', 'Abdenago 585, 3.', 'Abel 26, 11.', 'Abigail 606, 6.', 'Abraham 26,18. 124,18. 133, 23.', '264. 302, 13. 303, 13. 320, 40.', '496, 22.', 'Absalon 102, 5.', 'Acgfredi v. Ecgtridus.', 'Achab rex 504, 1.', 'Achaz rex 504,1.', 'Achiel 606, 19.', 'Achilon 496, 26.', 'Adal-, Adel-, Adhel-, Aedel-, Aed', '', 'Aedil-, Aedil- Edel-, Edil-, Athal-,', 'Athel-, Athil-, Aethel-, Aethil-,', 'Ethel-.', 'Aedelbaldusabb.S. Petri Wiremuthen-', 'sis et S. Pauli Girwensis 110, 28.', 'Aedilberctus, Aedilberthus ep. Ha-', 'gulstadensis, antea ep. Candidae', 'casae sive Witernensis 27,43. 72,16.', 'Adalbertus, Aedilberctus sive Magus,', 'discipulus et capellanus Arnonis', 'archiep. Salisburg., postea_abb.', 'Ferrariensis 254, 1. 320, 41. 322, 19.', '416. 418,14. 422, 10.', 'Adalpertabb.[Tegernseensis ?]497,23.', 'Adalbertus presb. monasterii S. Mar-', 'tini Turonensis 399, 3.', 'Aedilburga, Edilburga, cognom. Euge-', 'nia, abbatissa Flaedanbyrgensis,', 'filia Offae regis Merciorum 78, 1.', '148, 32. 149, 33 [2]° 458.', 'Aethelfleda uxor Aethilredi regis', 'Northanhumbrorum, filia Oftae', 'regis Merciorum 149, 14. 150, 4.', 'Adalgarius ep. [Trecensis?] 510, 10.', 'Adelgisa filia Arichis ducis Bene-', 'ventani 506, 27.', 'Adalgisus fil. Desiderii regis Lango-', 'bardorum 503, 45.', '', 'Epistozae IV.', '', '  ', '', ' ', '', ' ', '', ' ', '', ' ', '', ' ', '\\x0c', ' ', '', 'Aethelhardus, Aethilhardus, Athel-', 'hardus, Athilhardus, Aedelhardus,', 'Aedelhardus, Aedilhardus, Aedil-', 'hardus, Ethelardus, Edelardus', 'archiep. Cantuariensis Dorovernen-', '', 'sis eselaaing metropolitanus 45, 9.', '', '49,9. 128,2. 145, 31, 147,5. 188. 189.', '', '192, 24. 193, 5[?]. 874376, 29. 377, 4.', '', '412. 414,1 (2) 448. 449 [2]. 450 [2],', '', '451, 8 [2]. 479. 480. 614, 10. 21. 36.', '', 'Adalhardus, cognom. Antonius, abb.', '', 'Corbeiae veteris, fil. Bernhardi', '', 'ae Caroli Magni 34, 25. 290.', '1. 299. 300. 364. 365. 381. 382.', '', '509. 566,16; frater: Bernarius;', '', 'fratres 381,25; soror: Gundrada.', '', 'Adalmondus, Aethelmodus ep. Scire-', '', 'burnensis 29, 9.', '', 'Adelperga uxor Arichis ducis Bene-', '', 'ventani, filia Desiderii regis Lango-', '', 'bardorum 506, 5; liberi: Romual-', 'dus, Grimoaldus, Adelgisa.', '', 'Adalpert v, Adalbertus.', '', 'Aedelredus, Aedilredus, Aethelredus,', '', 'Aethilredus, Hedilredus rex Nor-', '', 'thanhumbrorum, fil. Aedelwaldi', '', 'Moll regis 383,15. 35,8. 41, 19.', '', '49,16. 71, 20, 146,2. 147,10. 150, 6.', '', '151, 35. 171,17. 377,31; mater:', '', 'Aedilthyda; uxor: Aethelfleda;', '', 'famulus: Torchmundus.', '', 'Adhelricus diaconus, discipulus et;', '', 'capellanus Arnonis archiep. Salis-', '', 'burg., postea abbas Ferrariensis,', '', 'archiepiscopus Senonensis, 418, 14.', '', '422, 10.', '', 'Aedilthyda, Edilthruda uxor Aethel-', '', 'waldi Moll regis Northanhumbro-', '', 'rum, postea abbatissa 120,12. 151,17.', '', '152, 31 (?]; filius: Aethelredus rex', '', 'Northanhumbrorum.', '', 'Edildryda uxor Ecgfridi regis Nor-', 'thanhumbrorum, postea abbatissa', '(+ 679) 417,15.', '', 'Aedelwaldus, Aethelwoldus Moll rex', 'Northanhumbrorum 33, 16; uxor:', 'Aedilthyda; filius: Aethelredus,', '', 'Adalwinus ep. Reginensis 421, 24.', '422, 21. 424, 3.', '', ' ', '', ' ', '', ' ', '', ' ', '', ' ', '', ' ', '', ' ', '\\x0c', ' ', '', 'Aethiluuinus episcopus 28, 2.', '', 'Adam 124. 201,1. 226,7. 264, 21,', '', '379, 29. 466, 36-—468, v5. 591, 34.', '', 'Adam abb. monasterii Gemeticensis', '', '579.', '', 'Adaula abbatissa Anglica 112, 4.', '', 'Adoredus, Hathoredus ep. Hwiccio-', 'rum [Wigorniensis] 29, 10.', '', 'Adrianus v. Hadrianus.', '', 'Adriaticum mare 324, 41.', '', 'Aedel-, Aedil-, v. Adal-.', '', 'Aegesippus [i. e. Hegesippus] 501, 11', '', 'Aegil v. Eigil.', '', 'Aegyptus, Egyptus 123,19. 554, 17;', 'Aegyptii, Aegyptiaci 231. 232, 17.', '467, 36. 567,6. 571,33; Egyptiacae', 'divitiae 470, 22; Aegyptiacae tene-', 'brae 232, 3; Acgy pit rex: Pharao;', 'Aegyptiacascola, Aegyptiaci pueri', 'v. Carolus I imperator.', '', 'Aeine, Aesne, Esne ep. Herefordensis', '', ', 6.', 'Aelberhtus archiep. Eboracensis, ma-', '‘ister Alevini abbatis (162, 24]. 167,s.', '171,19]. [177, 5]. [224,20]. [239, 28].', '332, 28]. [377,32]. (378, 31]. [429,27', '', 'Aelfvaldus, Aelfwaldus rex Nor-', 'thanhymbrorum, [Transhymbranae', 'gentis] 20, 27. 28, 11. 43,8. 377, 31.', '', 'Aelim v. Alim.', '', 'Aeneades 39, 21; v. Virgilius.', '', 'Aesculapius, Scolapius 397, 25.', '', 'Aesne v. Aeine.', '', 'Aethel-, Aethil- v. Adal-.', '', 'Aethiopia 478, 5,', '', 'Africa 124, 16; Afer: Melchiades', 'papa; Africanum concilium 526,33.', '', 'Africanus, se. Scipio Afr. 575, 36.', '', 'Agar 584, 3s.', '', 'Agareni, Aggareni 32, 19. 601, 21;', 'v, Saraceni.', '', 'Agathensis synodus 396,', '', 'Aginus ep. Constantiensis 117, 32.', '', '129, 19.', '', ' ', '', ' ', '', ' ', '\\x0c']\n"
     ]
    }
   ],
   "source": [
    "print(results) "
   ]
  },
  {
   "cell_type": "code",
   "execution_count": 50,
   "id": "d06679df-0a91-4915-9467-8d388bf64e4d",
   "metadata": {},
   "outputs": [],
   "source": [
    "entities = []\n",
    "for item in results  : \n",
    "    item = item.strip().replace(\"\\n\",\"\")\n",
    "    item = item.split(\" \")[0] # first name\n",
    "    if len(item) >  2 :\n",
    "        if item[0] == \"A\" and \"-\" not in item : # is char\n",
    "            item = item.split(\".\")[0].replace(\",\",\"\").replace(\";\",\"\")\n",
    "            entities.append(item)\n",
    "    "
   ]
  },
  {
   "cell_type": "code",
   "execution_count": 55,
   "id": "75872bd9-6e6d-4ff2-b9a3-cf2e7826161b",
   "metadata": {},
   "outputs": [
    {
     "name": "stdout",
     "output_type": "stream",
     "text": [
      "['Aaron', 'Abacuc', 'Abagarus', 'Abdenago', 'Abel', 'Abigail', 'Abraham', 'Absalon', 'Acgfredi', 'Achab', 'Achaz', 'Achiel', 'Achilon', 'Adalbertus', 'Adalgarius', 'Adalgisus', 'Adalhardus', 'Adalmondus', 'Adalpert', 'Adalpertabb', 'Adalwinus', 'Adam', 'Adaula', 'Adelgisa', 'Adelperga', 'Adhelricus', 'Adoredus', 'Adrianus', 'Adriaticum', 'Aedelbaldusabb', 'Aedelhardus', 'Aedelredus', 'Aedelwaldus', 'Aedilberctus', 'Aedilburga', 'Aedilthyda', 'Aegesippus', 'Aegil', 'Aegyptiacascola', 'Aegyptii', 'Aegyptus', 'Aeine', 'Aelberhtus', 'Aelfvaldus', 'Aelim', 'Aeneades', 'Aesculapius', 'Aesne', 'Aethelfleda', 'Aethelhardus', 'Aethilredus', 'Aethiluuinus', 'Aethiopia', 'Africa', 'Africanus', 'Agar', 'Agareni', 'Agathensis', 'Aginus']\n"
     ]
    }
   ],
   "source": [
    "entities = list(set(entities))\n",
    "entities.sort()\n",
    "print(entities)"
   ]
  },
  {
   "cell_type": "code",
   "execution_count": null,
   "id": "94a22574-cef1-4fc4-8b9a-2541dea68a12",
   "metadata": {},
   "outputs": [],
   "source": []
  }
 ],
 "metadata": {
  "kernelspec": {
   "display_name": "Python 3 (ipykernel)",
   "language": "python",
   "name": "python3"
  },
  "language_info": {
   "codemirror_mode": {
    "name": "ipython",
    "version": 3
   },
   "file_extension": ".py",
   "mimetype": "text/x-python",
   "name": "python",
   "nbconvert_exporter": "python",
   "pygments_lexer": "ipython3",
   "version": "3.13.5"
  }
 },
 "nbformat": 4,
 "nbformat_minor": 5
}
