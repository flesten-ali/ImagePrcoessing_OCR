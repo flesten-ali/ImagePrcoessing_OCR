{
 "cells": [
  {
   "cell_type": "code",
   "execution_count": 4,
   "id": "71ae4e8b-9938-4107-91b7-499568dbcaf9",
   "metadata": {},
   "outputs": [],
   "source": [
    "import pytesseract\n",
    "from PIL import Image"
   ]
  },
  {
   "cell_type": "code",
   "execution_count": 5,
   "id": "973b6969-1a3e-4948-8541-2b4112de8497",
   "metadata": {},
   "outputs": [],
   "source": [
    "img_file = \"data/page_01.jpg\"\n",
    "no_noise_image = \"temp/no_noise.jpg\""
   ]
  },
  {
   "cell_type": "code",
   "execution_count": 6,
   "id": "506e1e2a-0ae6-4574-bdf6-322f02a2e9ca",
   "metadata": {},
   "outputs": [],
   "source": [
    "# load inital image into memory using pillow\n",
    "img = Image.open(img_file)"
   ]
  },
  {
   "cell_type": "code",
   "execution_count": 8,
   "id": "184503a4-d577-4a85-8981-40164ed30bad",
   "metadata": {},
   "outputs": [],
   "source": [
    "# ocr the actual inital image\n",
    "ocr_image_result = pytesseract.image_to_string(img)"
   ]
  },
  {
   "cell_type": "code",
   "execution_count": 10,
   "id": "a7599e72-8331-4430-ac41-0cf3938dea7f",
   "metadata": {},
   "outputs": [
    {
     "name": "stdout",
     "output_type": "stream",
     "text": [
      " \n",
      "\f",
      "\n"
     ]
    }
   ],
   "source": [
    "print(ocr_image_result) # nothing because the image is not pre-processed so we ganna use the no-noise image"
   ]
  },
  {
   "cell_type": "code",
   "execution_count": 11,
   "id": "83aa1ffb-52d4-43d8-9941-b4f9336ee0dd",
   "metadata": {},
   "outputs": [],
   "source": [
    "# now use no-noise images\n",
    "img = Image.open(no_noise_image)\n",
    "ocr_image_result = pytesseract.image_to_string(img)"
   ]
  },
  {
   "cell_type": "code",
   "execution_count": 12,
   "id": "e6571cf8-0c7b-4d26-9260-84fe230c90dd",
   "metadata": {},
   "outputs": [
    {
     "name": "stdout",
     "output_type": "stream",
     "text": [
      "“GABRIEL Meamall\n",
      "\n",
      "On Easter movning in the year 1944, I took my six-year-old\n",
      "son by the hand and began walking fron my home town toward the\n",
      "valleys and forests of the Carpathizn mountains. For nearly\n",
      "eight months we lived in barns, attics and makeshift eabins. With\n",
      "the gene nous help of an unusually courageous man, we managed to\n",
      "survive Europe's greatest fit of madness. Those who walked in\n",
      "the opposite direction on that Easter day were lese fortunate.\n",
      "They were taken in trainloads to places whose once obscure names\n",
      "are now, and forever will be, synonymous with terror, evil and\n",
      "death. What follows is our story of survival told to the best\n",
      "of my ability, in plain, simple language.\n",
      "\n",
      "In March of 1944 the SS troops took over the internal affairs\n",
      "of Hungary and proceeded to organize the deportation of the dows.\n",
      "To the Nazie thie was a routine assignment; within hours all local\n",
      "officials were informed of operational plans. The high command\n",
      "issued a directive designed to placate Jewish fears and induce\n",
      "cooperation. It was announced that the Jews would be shipped to\n",
      "Poland as an emergency labor force and that they were only being\n",
      "drafted for temporary work. There were many who believed this\n",
      "version. Others, less credulous, resigred themselves and hoped for\n",
      "the vest. Still others began to make plans for escape. By Aprii\n",
      "13 the Hungarian Jews were being rounded up from all over the .\n",
      "country in what was once a huge brick factory. The rest is well\n",
      "known. :\n",
      "\n",
      "J was working in Ungvar and usually came home on weekends.\n",
      "\n",
      "At that time it was no longer possible for a Jew to travel freely.\n",
      "\n",
      " \n",
      "\f",
      "\n"
     ]
    }
   ],
   "source": [
    "print(ocr_image_result) # the result never ganna be perfect"
   ]
  },
  {
   "cell_type": "code",
   "execution_count": null,
   "id": "35ded9b3-c538-40c8-b429-9949f7aed4a2",
   "metadata": {},
   "outputs": [],
   "source": []
  }
 ],
 "metadata": {
  "kernelspec": {
   "display_name": "Python 3 (ipykernel)",
   "language": "python",
   "name": "python3"
  },
  "language_info": {
   "codemirror_mode": {
    "name": "ipython",
    "version": 3
   },
   "file_extension": ".py",
   "mimetype": "text/x-python",
   "name": "python",
   "nbconvert_exporter": "python",
   "pygments_lexer": "ipython3",
   "version": "3.13.5"
  }
 },
 "nbformat": 4,
 "nbformat_minor": 5
}
