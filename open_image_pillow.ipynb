{
 "cells": [
  {
   "cell_type": "code",
   "execution_count": 9,
   "id": "ab1e8cf7-6428-4774-bea2-4f9255b06f90",
   "metadata": {},
   "outputs": [
    {
     "name": "stdout",
     "output_type": "stream",
     "text": [
      "<PIL.JpegImagePlugin.JpegImageFile image mode=RGB size=1200x1522 at 0x1C06C8A7100>\n",
      "(1200, 1522)\n"
     ]
    }
   ],
   "source": [
    "# simple image manipulations using PILLOW\n",
    "from PIL import Image\n",
    "\n",
    "my_file = \"data/page_01.jpg\"\n",
    "im = Image.open(my_file) # image loaded into memory\n",
    "print(im) #image meta data\n",
    "print(im.size)\n",
    "im.show()\n",
    "im.rotate(90).show()\n",
    "# save  \n",
    "im.save(\"temp/page_01.jpg\")"
   ]
  },
  {
   "cell_type": "code",
   "execution_count": null,
   "id": "1df7de2b-0ec2-4218-94fe-a450f2dd0237",
   "metadata": {},
   "outputs": [],
   "source": []
  }
 ],
 "metadata": {
  "kernelspec": {
   "display_name": "Python 3 (ipykernel)",
   "language": "python",
   "name": "python3"
  },
  "language_info": {
   "codemirror_mode": {
    "name": "ipython",
    "version": 3
   },
   "file_extension": ".py",
   "mimetype": "text/x-python",
   "name": "python",
   "nbconvert_exporter": "python",
   "pygments_lexer": "ipython3",
   "version": "3.13.5"
  }
 },
 "nbformat": 4,
 "nbformat_minor": 5
}
